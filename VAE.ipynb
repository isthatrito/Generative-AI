{
 "cells": [
  {
   "cell_type": "code",
   "execution_count": 4,
   "metadata": {},
   "outputs": [],
   "source": [
    "import tensorflow.compat.v2 as tf\n",
    "import tensorflow_datasets as tfds"
   ]
  },
  {
   "cell_type": "code",
   "execution_count": 5,
   "metadata": {},
   "outputs": [],
   "source": [
    "cifar10_builder = tfds.builder(\"cifar10\")"
   ]
  },
  {
   "cell_type": "code",
   "execution_count": 6,
   "metadata": {},
   "outputs": [
    {
     "name": "stdout",
     "output_type": "stream",
     "text": [
      "\u001b[1mDownloading and preparing dataset cifar10 (162.17 MiB) to /Users/j.babcock/tensorflow_datasets/cifar10/3.0.0...\u001b[0m\n"
     ]
    },
    {
     "data": {
      "application/vnd.jupyter.widget-view+json": {
       "model_id": "a3fe5cbab18648f795267dc7daa4c53b",
       "version_major": 2,
       "version_minor": 0
      },
      "text/plain": [
       "HBox(children=(IntProgress(value=1, bar_style='info', description='Dl Completed...', max=1, style=ProgressStyl…"
      ]
     },
     "metadata": {},
     "output_type": "display_data"
    },
    {
     "data": {
      "application/vnd.jupyter.widget-view+json": {
       "model_id": "e22a6729960e4ff4abbec65ea88003ba",
       "version_major": 2,
       "version_minor": 0
      },
      "text/plain": [
       "HBox(children=(IntProgress(value=1, bar_style='info', description='Dl Size...', max=1, style=ProgressStyle(des…"
      ]
     },
     "metadata": {},
     "output_type": "display_data"
    },
    {
     "data": {
      "application/vnd.jupyter.widget-view+json": {
       "model_id": "bf73416f8c1e4d6192dfe8b862290b99",
       "version_major": 2,
       "version_minor": 0
      },
      "text/plain": [
       "HBox(children=(IntProgress(value=1, bar_style='info', description='Extraction completed...', max=1, style=Prog…"
      ]
     },
     "metadata": {},
     "output_type": "display_data"
    },
    {
     "name": "stderr",
     "output_type": "stream",
     "text": [
      "/Users/j.babcock/Library/Python/3.7/lib/python/site-packages/urllib3/connectionpool.py:847: InsecureRequestWarning: Unverified HTTPS request is being made. Adding certificate verification is strongly advised. See: https://urllib3.readthedocs.io/en/latest/advanced-usage.html#ssl-warnings\n",
      "  InsecureRequestWarning)\n"
     ]
    },
    {
     "name": "stdout",
     "output_type": "stream",
     "text": [
      "\n",
      "\n",
      "\n",
      "\n",
      "\n",
      "\n"
     ]
    },
    {
     "data": {
      "application/vnd.jupyter.widget-view+json": {
       "model_id": "",
       "version_major": 2,
       "version_minor": 0
      },
      "text/plain": [
       "HBox(children=(IntProgress(value=1, bar_style='info', max=1), HTML(value='')))"
      ]
     },
     "metadata": {},
     "output_type": "display_data"
    },
    {
     "name": "stdout",
     "output_type": "stream",
     "text": [
      "\r",
      "Shuffling and writing examples to /Users/j.babcock/tensorflow_datasets/cifar10/3.0.0.incompleteFV44SL/cifar10-train.tfrecord\n"
     ]
    },
    {
     "data": {
      "application/vnd.jupyter.widget-view+json": {
       "model_id": "a1fb16c1093044f1b657057a555166b6",
       "version_major": 2,
       "version_minor": 0
      },
      "text/plain": [
       "HBox(children=(IntProgress(value=0, max=50000), HTML(value='')))"
      ]
     },
     "metadata": {},
     "output_type": "display_data"
    },
    {
     "data": {
      "application/vnd.jupyter.widget-view+json": {
       "model_id": "",
       "version_major": 2,
       "version_minor": 0
      },
      "text/plain": [
       "HBox(children=(IntProgress(value=1, bar_style='info', max=1), HTML(value='')))"
      ]
     },
     "metadata": {},
     "output_type": "display_data"
    },
    {
     "name": "stdout",
     "output_type": "stream",
     "text": [
      "Shuffling and writing examples to /Users/j.babcock/tensorflow_datasets/cifar10/3.0.0.incompleteFV44SL/cifar10-test.tfrecord\n"
     ]
    },
    {
     "data": {
      "application/vnd.jupyter.widget-view+json": {
       "model_id": "a35f45f5cbaf45d2a8aecd425d83cc43",
       "version_major": 2,
       "version_minor": 0
      },
      "text/plain": [
       "HBox(children=(IntProgress(value=0, max=10000), HTML(value='')))"
      ]
     },
     "metadata": {},
     "output_type": "display_data"
    },
    {
     "name": "stdout",
     "output_type": "stream",
     "text": [
      "\u001b[1mDataset cifar10 downloaded and prepared to /Users/j.babcock/tensorflow_datasets/cifar10/3.0.0. Subsequent calls will reuse this data.\u001b[0m\n"
     ]
    }
   ],
   "source": [
    "cifar10_builder.download_and_prepare()"
   ]
  },
  {
   "cell_type": "code",
   "execution_count": 115,
   "metadata": {},
   "outputs": [],
   "source": [
    "cifar10_train = cifar10_builder.as_dataset(split=\"train\")\n",
    "cifar10_test = cifar10_builder.as_dataset(split=\"test\")"
   ]
  },
  {
   "cell_type": "code",
   "execution_count": 251,
   "metadata": {},
   "outputs": [
    {
     "data": {
      "text/plain": [
       "<DatasetV1Adapter shapes: {image: (32, 32, 3), label: ()}, types: {image: tf.uint8, label: tf.int64}>"
      ]
     },
     "execution_count": 251,
     "metadata": {},
     "output_type": "execute_result"
    }
   ],
   "source": [
    "cifar10_train.take(1)"
   ]
  },
  {
   "cell_type": "code",
   "execution_count": 211,
   "metadata": {},
   "outputs": [],
   "source": [
    "class VAE(tf.keras.Model):\n",
    "    \n",
    "    def __init__(self, input_shape, name='variational_autoencoder',\n",
    "                 latent_dim=10, hidden_dim=10, encoder='GaussianMLP', \n",
    "                 decoder='BernoulliMLP', iaf_model=None,\n",
    "                 number_iaf_networks=0,\n",
    "                 iaf_params={},\n",
    "                 num_samples=100, **kwargs):\n",
    "        super().__init__(name=name, **kwargs)\n",
    "        self._latent_dim = latent_dim\n",
    "        self._num_samples = num_samples\n",
    "        self._iaf = []\n",
    "        \n",
    "        if encoder == 'GaussianMLP':\n",
    "            self._encoder = GaussianMLP(input_shape=input_shape, \n",
    "                                        latent_dim=latent_dim, \n",
    "                                        iaf=(iaf_model is not None), \n",
    "                                        hidden_dim=hidden_dim)\n",
    "        else:\n",
    "            raise ValueError(\"Unknown encoder type: {}\".format(encoder))\n",
    "        \n",
    "        if decoder == 'BernoulliMLP':\n",
    "            self._decoder = BernoulliMLP(input_shape=(1,latent_dim), latent_dim=input_shape[1], \n",
    "                                         hidden_dim=hidden_dim)\n",
    "        elif decoder == 'GaussianMLP':\n",
    "            self._encoder = GaussianMLP(input_shape=(1,latent_dim), \n",
    "                                        latent_dim=input_shape[1], \n",
    "                                        iaf=(iaf_model is not None), \n",
    "                                        hidden_dim=hidden_dim)\n",
    "        else:\n",
    "            raise ValueError(\"Unknown decoder type: {}\".format(decoder))\n",
    "        \n",
    "        if iaf_model:\n",
    "            self._iaf = []\n",
    "            for t in range(number_iaf_networks):\n",
    "                self._iaf.append(\n",
    "                    iaf_model(input_shape==(1,latent_dim*2), **iaf_params)\n",
    "                )\n",
    "    \n",
    "    @tf.function\n",
    "    def sample(self, eps=None):\n",
    "        if eps is None:\n",
    "            eps = tf.random.normal(shape=(self._num_samples, self.latent_dim))\n",
    "        return self._decoder.call(eps, apply_sigmoid=False)\n",
    "\n",
    "    def encode(self, x):\n",
    "        return self._encoder.call(x)\n",
    "    \n",
    "    def decode(self, z, apply_sigmoid=False):\n",
    "        logits, _, _ = self._decoder.call(z)\n",
    "        if apply_sigmoid:\n",
    "            probs = tf.sigmoid(logits)\n",
    "            return probs\n",
    "    \n",
    "        return logits\n",
    "    \n",
    "    def reparameterize(self, mean, logvar):\n",
    "        eps = tf.random.normal(shape=mean.shape)\n",
    "        return eps * tf.exp(logvar * .5) + mean\n",
    "\n",
    "    \n",
    "    @property\n",
    "    def iaf(self):\n",
    "        return self._iaf\n",
    "    \n",
    "    "
   ]
  },
  {
   "cell_type": "code",
   "execution_count": 309,
   "metadata": {},
   "outputs": [],
   "source": [
    "#model = VAE(input_shape=(1,3072))\n",
    "\n",
    "\n",
    "model = VAE(input_shape=(1,3072), hidden_dim=500, latent_dim=500, iaf_model=GaussianMLP, number_iaf_networks=3, \n",
    "            iaf_params={'latent_dim': 500, 'hidden_dim': 500, 'iaf': False})\n"
   ]
  },
  {
   "cell_type": "code",
   "execution_count": 310,
   "metadata": {},
   "outputs": [],
   "source": [
    "def log_normal_pdf(sample, mean, logvar, raxis=1):\n",
    "    log2pi = tf.math.log(2. * np.pi)\n",
    "    return tf.reduce_sum(\n",
    "          -.5 * ((sample - mean) ** 2. * tf.exp(-logvar) + logvar + log2pi),\n",
    "          axis=raxis)\n",
    "\n",
    "@tf.function\n",
    "def compute_loss(model, x):\n",
    "    mean, logvar, h = model.encode(x)\n",
    "    z = model.reparameterize(mean, logvar)\n",
    "    \n",
    "    logqz_x = log_normal_pdf(z, mean, logvar)\n",
    "    \n",
    "    for iaf_model in model.iaf:\n",
    "        mean, logvar, _ = iaf_model.call(tf.concat([z, h], 2))\n",
    "        s = tf.sigmoid(logvar)\n",
    "        z = tf.add(tf.math.multiply(z,s), tf.math.multiply(mean,(1-s)))\n",
    "        logqz_x -= tf.reduce_sum(tf.math.log(s))\n",
    "    \n",
    "    x_logit = model.decode(z)\n",
    "    cross_ent = tf.nn.sigmoid_cross_entropy_with_logits(logits=x_logit, labels=x)\n",
    "    logpx_z = -tf.reduce_sum(cross_ent, axis=[2])\n",
    "    logpz = log_normal_pdf(z, 0., 0.)\n",
    "          \n",
    "    return -tf.reduce_mean(logpx_z + logpz - logqz_x)\n",
    "\n",
    "@tf.function\n",
    "def compute_apply_gradients(model, x, optimizer):\n",
    "    with tf.GradientTape() as tape:\n",
    "        loss = compute_loss(model, x)\n",
    "    gradients = tape.gradient(loss, model.trainable_variables)\n",
    "    optimizer.apply_gradients(zip(gradients, model.trainable_variables))"
   ]
  },
  {
   "cell_type": "code",
   "execution_count": 311,
   "metadata": {
    "scrolled": false
   },
   "outputs": [
    {
     "name": "stdout",
     "output_type": "stream",
     "text": [
      "Epoch: 1, Test set ELBO: -2151.757080078125, time elapse for current epoch 61.974515199661255\n",
      "Epoch: 2, Test set ELBO: -2061.24560546875, time elapse for current epoch 58.04972314834595\n",
      "Epoch: 3, Test set ELBO: -2038.94970703125, time elapse for current epoch 60.04802680015564\n",
      "Epoch: 4, Test set ELBO: -2026.10546875, time elapse for current epoch 60.26771402359009\n",
      "Epoch: 5, Test set ELBO: -2018.3909912109375, time elapse for current epoch 58.40106797218323\n",
      "Epoch: 6, Test set ELBO: -2013.5391845703125, time elapse for current epoch 58.88316321372986\n",
      "Epoch: 7, Test set ELBO: -2009.5238037109375, time elapse for current epoch 58.35735893249512\n",
      "Epoch: 8, Test set ELBO: -2005.8297119140625, time elapse for current epoch 60.940675020217896\n",
      "Epoch: 9, Test set ELBO: -2003.8834228515625, time elapse for current epoch 59.65025997161865\n",
      "Epoch: 10, Test set ELBO: -2002.408203125, time elapse for current epoch 61.06896686553955\n",
      "Epoch: 11, Test set ELBO: -2001.0401611328125, time elapse for current epoch 58.0478720664978\n",
      "Epoch: 12, Test set ELBO: -2000.0992431640625, time elapse for current epoch 58.393925189971924\n",
      "Epoch: 13, Test set ELBO: -1998.7967529296875, time elapse for current epoch 58.945866107940674\n",
      "Epoch: 14, Test set ELBO: -1997.6968994140625, time elapse for current epoch 58.28441119194031\n",
      "Epoch: 15, Test set ELBO: -1996.740966796875, time elapse for current epoch 58.37646412849426\n",
      "Epoch: 16, Test set ELBO: -1995.9884033203125, time elapse for current epoch 60.18032097816467\n",
      "Epoch: 17, Test set ELBO: -1995.2236328125, time elapse for current epoch 59.59520673751831\n",
      "Epoch: 18, Test set ELBO: -1994.47021484375, time elapse for current epoch 59.842689037323\n",
      "Epoch: 19, Test set ELBO: -1993.89697265625, time elapse for current epoch 60.1396849155426\n",
      "Epoch: 20, Test set ELBO: -1993.309326171875, time elapse for current epoch 59.13459086418152\n",
      "Epoch: 21, Test set ELBO: -1992.821533203125, time elapse for current epoch 58.83411717414856\n",
      "Epoch: 22, Test set ELBO: -1992.44384765625, time elapse for current epoch 57.59811091423035\n",
      "Epoch: 23, Test set ELBO: -1992.216064453125, time elapse for current epoch 56.227818965911865\n",
      "Epoch: 24, Test set ELBO: -1991.915771484375, time elapse for current epoch 59.29469299316406\n",
      "Epoch: 25, Test set ELBO: -1991.334228515625, time elapse for current epoch 59.921079874038696\n",
      "Epoch: 26, Test set ELBO: -1991.0057373046875, time elapse for current epoch 60.31730675697327\n",
      "Epoch: 27, Test set ELBO: -1990.656494140625, time elapse for current epoch 60.285731077194214\n"
     ]
    },
    {
     "ename": "KeyboardInterrupt",
     "evalue": "",
     "output_type": "error",
     "traceback": [
      "\u001b[0;31m---------------------------------------------------------------------------\u001b[0m",
      "\u001b[0;31mKeyboardInterrupt\u001b[0m                         Traceback (most recent call last)",
      "\u001b[0;32m<ipython-input-311-129311e1e405>\u001b[0m in \u001b[0;36m<module>\u001b[0;34m\u001b[0m\n\u001b[1;32m      9\u001b[0m     for train_x in cifar10_train.map(\n\u001b[1;32m     10\u001b[0m             lambda x: flatten_image(x, label=False)).batch(32):\n\u001b[0;32m---> 11\u001b[0;31m         \u001b[0mcompute_apply_gradients\u001b[0m\u001b[0;34m(\u001b[0m\u001b[0mmodel\u001b[0m\u001b[0;34m,\u001b[0m \u001b[0mtrain_x\u001b[0m\u001b[0;34m,\u001b[0m \u001b[0moptimizer\u001b[0m\u001b[0;34m)\u001b[0m\u001b[0;34m\u001b[0m\u001b[0;34m\u001b[0m\u001b[0m\n\u001b[0m\u001b[1;32m     12\u001b[0m     \u001b[0mend_time\u001b[0m \u001b[0;34m=\u001b[0m \u001b[0mtime\u001b[0m\u001b[0;34m.\u001b[0m\u001b[0mtime\u001b[0m\u001b[0;34m(\u001b[0m\u001b[0;34m)\u001b[0m\u001b[0;34m\u001b[0m\u001b[0;34m\u001b[0m\u001b[0m\n\u001b[1;32m     13\u001b[0m \u001b[0;34m\u001b[0m\u001b[0m\n",
      "\u001b[0;32m/usr/local/lib/python3.7/site-packages/tensorflow_core/python/eager/def_function.py\u001b[0m in \u001b[0;36m__call__\u001b[0;34m(self, *args, **kwds)\u001b[0m\n\u001b[1;32m    566\u001b[0m         \u001b[0mxla_context\u001b[0m\u001b[0;34m.\u001b[0m\u001b[0mExit\u001b[0m\u001b[0;34m(\u001b[0m\u001b[0;34m)\u001b[0m\u001b[0;34m\u001b[0m\u001b[0;34m\u001b[0m\u001b[0m\n\u001b[1;32m    567\u001b[0m     \u001b[0;32melse\u001b[0m\u001b[0;34m:\u001b[0m\u001b[0;34m\u001b[0m\u001b[0;34m\u001b[0m\u001b[0m\n\u001b[0;32m--> 568\u001b[0;31m       \u001b[0mresult\u001b[0m \u001b[0;34m=\u001b[0m \u001b[0mself\u001b[0m\u001b[0;34m.\u001b[0m\u001b[0m_call\u001b[0m\u001b[0;34m(\u001b[0m\u001b[0;34m*\u001b[0m\u001b[0margs\u001b[0m\u001b[0;34m,\u001b[0m \u001b[0;34m**\u001b[0m\u001b[0mkwds\u001b[0m\u001b[0;34m)\u001b[0m\u001b[0;34m\u001b[0m\u001b[0;34m\u001b[0m\u001b[0m\n\u001b[0m\u001b[1;32m    569\u001b[0m \u001b[0;34m\u001b[0m\u001b[0m\n\u001b[1;32m    570\u001b[0m     \u001b[0;32mif\u001b[0m \u001b[0mtracing_count\u001b[0m \u001b[0;34m==\u001b[0m \u001b[0mself\u001b[0m\u001b[0;34m.\u001b[0m\u001b[0m_get_tracing_count\u001b[0m\u001b[0;34m(\u001b[0m\u001b[0;34m)\u001b[0m\u001b[0;34m:\u001b[0m\u001b[0;34m\u001b[0m\u001b[0;34m\u001b[0m\u001b[0m\n",
      "\u001b[0;32m/usr/local/lib/python3.7/site-packages/tensorflow_core/python/eager/def_function.py\u001b[0m in \u001b[0;36m_call\u001b[0;34m(self, *args, **kwds)\u001b[0m\n\u001b[1;32m    597\u001b[0m       \u001b[0;31m# In this case we have created variables on the first call, so we run the\u001b[0m\u001b[0;34m\u001b[0m\u001b[0;34m\u001b[0m\u001b[0;34m\u001b[0m\u001b[0m\n\u001b[1;32m    598\u001b[0m       \u001b[0;31m# defunned version which is guaranteed to never create variables.\u001b[0m\u001b[0;34m\u001b[0m\u001b[0;34m\u001b[0m\u001b[0;34m\u001b[0m\u001b[0m\n\u001b[0;32m--> 599\u001b[0;31m       \u001b[0;32mreturn\u001b[0m \u001b[0mself\u001b[0m\u001b[0;34m.\u001b[0m\u001b[0m_stateless_fn\u001b[0m\u001b[0;34m(\u001b[0m\u001b[0;34m*\u001b[0m\u001b[0margs\u001b[0m\u001b[0;34m,\u001b[0m \u001b[0;34m**\u001b[0m\u001b[0mkwds\u001b[0m\u001b[0;34m)\u001b[0m  \u001b[0;31m# pylint: disable=not-callable\u001b[0m\u001b[0;34m\u001b[0m\u001b[0;34m\u001b[0m\u001b[0m\n\u001b[0m\u001b[1;32m    600\u001b[0m     \u001b[0;32melif\u001b[0m \u001b[0mself\u001b[0m\u001b[0;34m.\u001b[0m\u001b[0m_stateful_fn\u001b[0m \u001b[0;32mis\u001b[0m \u001b[0;32mnot\u001b[0m \u001b[0;32mNone\u001b[0m\u001b[0;34m:\u001b[0m\u001b[0;34m\u001b[0m\u001b[0;34m\u001b[0m\u001b[0m\n\u001b[1;32m    601\u001b[0m       \u001b[0;31m# Release the lock early so that multiple threads can perform the call\u001b[0m\u001b[0;34m\u001b[0m\u001b[0;34m\u001b[0m\u001b[0;34m\u001b[0m\u001b[0m\n",
      "\u001b[0;32m/usr/local/lib/python3.7/site-packages/tensorflow_core/python/eager/function.py\u001b[0m in \u001b[0;36m__call__\u001b[0;34m(self, *args, **kwargs)\u001b[0m\n\u001b[1;32m   2361\u001b[0m     \u001b[0;32mwith\u001b[0m \u001b[0mself\u001b[0m\u001b[0;34m.\u001b[0m\u001b[0m_lock\u001b[0m\u001b[0;34m:\u001b[0m\u001b[0;34m\u001b[0m\u001b[0;34m\u001b[0m\u001b[0m\n\u001b[1;32m   2362\u001b[0m       \u001b[0mgraph_function\u001b[0m\u001b[0;34m,\u001b[0m \u001b[0margs\u001b[0m\u001b[0;34m,\u001b[0m \u001b[0mkwargs\u001b[0m \u001b[0;34m=\u001b[0m \u001b[0mself\u001b[0m\u001b[0;34m.\u001b[0m\u001b[0m_maybe_define_function\u001b[0m\u001b[0;34m(\u001b[0m\u001b[0margs\u001b[0m\u001b[0;34m,\u001b[0m \u001b[0mkwargs\u001b[0m\u001b[0;34m)\u001b[0m\u001b[0;34m\u001b[0m\u001b[0;34m\u001b[0m\u001b[0m\n\u001b[0;32m-> 2363\u001b[0;31m     \u001b[0;32mreturn\u001b[0m \u001b[0mgraph_function\u001b[0m\u001b[0;34m.\u001b[0m\u001b[0m_filtered_call\u001b[0m\u001b[0;34m(\u001b[0m\u001b[0margs\u001b[0m\u001b[0;34m,\u001b[0m \u001b[0mkwargs\u001b[0m\u001b[0;34m)\u001b[0m  \u001b[0;31m# pylint: disable=protected-access\u001b[0m\u001b[0;34m\u001b[0m\u001b[0;34m\u001b[0m\u001b[0m\n\u001b[0m\u001b[1;32m   2364\u001b[0m \u001b[0;34m\u001b[0m\u001b[0m\n\u001b[1;32m   2365\u001b[0m   \u001b[0;34m@\u001b[0m\u001b[0mproperty\u001b[0m\u001b[0;34m\u001b[0m\u001b[0;34m\u001b[0m\u001b[0m\n",
      "\u001b[0;32m/usr/local/lib/python3.7/site-packages/tensorflow_core/python/eager/function.py\u001b[0m in \u001b[0;36m_filtered_call\u001b[0;34m(self, args, kwargs)\u001b[0m\n\u001b[1;32m   1609\u001b[0m          if isinstance(t, (ops.Tensor,\n\u001b[1;32m   1610\u001b[0m                            resource_variable_ops.BaseResourceVariable))),\n\u001b[0;32m-> 1611\u001b[0;31m         self.captured_inputs)\n\u001b[0m\u001b[1;32m   1612\u001b[0m \u001b[0;34m\u001b[0m\u001b[0m\n\u001b[1;32m   1613\u001b[0m   \u001b[0;32mdef\u001b[0m \u001b[0m_call_flat\u001b[0m\u001b[0;34m(\u001b[0m\u001b[0mself\u001b[0m\u001b[0;34m,\u001b[0m \u001b[0margs\u001b[0m\u001b[0;34m,\u001b[0m \u001b[0mcaptured_inputs\u001b[0m\u001b[0;34m,\u001b[0m \u001b[0mcancellation_manager\u001b[0m\u001b[0;34m=\u001b[0m\u001b[0;32mNone\u001b[0m\u001b[0;34m)\u001b[0m\u001b[0;34m:\u001b[0m\u001b[0;34m\u001b[0m\u001b[0;34m\u001b[0m\u001b[0m\n",
      "\u001b[0;32m/usr/local/lib/python3.7/site-packages/tensorflow_core/python/eager/function.py\u001b[0m in \u001b[0;36m_call_flat\u001b[0;34m(self, args, captured_inputs, cancellation_manager)\u001b[0m\n\u001b[1;32m   1690\u001b[0m       \u001b[0;31m# No tape is watching; skip to running the function.\u001b[0m\u001b[0;34m\u001b[0m\u001b[0;34m\u001b[0m\u001b[0;34m\u001b[0m\u001b[0m\n\u001b[1;32m   1691\u001b[0m       return self._build_call_outputs(self._inference_function.call(\n\u001b[0;32m-> 1692\u001b[0;31m           ctx, args, cancellation_manager=cancellation_manager))\n\u001b[0m\u001b[1;32m   1693\u001b[0m     forward_backward = self._select_forward_and_backward_functions(\n\u001b[1;32m   1694\u001b[0m         \u001b[0margs\u001b[0m\u001b[0;34m,\u001b[0m\u001b[0;34m\u001b[0m\u001b[0;34m\u001b[0m\u001b[0m\n",
      "\u001b[0;32m/usr/local/lib/python3.7/site-packages/tensorflow_core/python/eager/function.py\u001b[0m in \u001b[0;36mcall\u001b[0;34m(self, ctx, args, cancellation_manager)\u001b[0m\n\u001b[1;32m    543\u001b[0m               \u001b[0minputs\u001b[0m\u001b[0;34m=\u001b[0m\u001b[0margs\u001b[0m\u001b[0;34m,\u001b[0m\u001b[0;34m\u001b[0m\u001b[0;34m\u001b[0m\u001b[0m\n\u001b[1;32m    544\u001b[0m               \u001b[0mattrs\u001b[0m\u001b[0;34m=\u001b[0m\u001b[0;34m(\u001b[0m\u001b[0;34m\"executor_type\"\u001b[0m\u001b[0;34m,\u001b[0m \u001b[0mexecutor_type\u001b[0m\u001b[0;34m,\u001b[0m \u001b[0;34m\"config_proto\"\u001b[0m\u001b[0;34m,\u001b[0m \u001b[0mconfig\u001b[0m\u001b[0;34m)\u001b[0m\u001b[0;34m,\u001b[0m\u001b[0;34m\u001b[0m\u001b[0;34m\u001b[0m\u001b[0m\n\u001b[0;32m--> 545\u001b[0;31m               ctx=ctx)\n\u001b[0m\u001b[1;32m    546\u001b[0m         \u001b[0;32melse\u001b[0m\u001b[0;34m:\u001b[0m\u001b[0;34m\u001b[0m\u001b[0;34m\u001b[0m\u001b[0m\n\u001b[1;32m    547\u001b[0m           outputs = execute.execute_with_cancellation(\n",
      "\u001b[0;32m/usr/local/lib/python3.7/site-packages/tensorflow_core/python/eager/execute.py\u001b[0m in \u001b[0;36mquick_execute\u001b[0;34m(op_name, num_outputs, inputs, attrs, ctx, name)\u001b[0m\n\u001b[1;32m     59\u001b[0m     tensors = pywrap_tensorflow.TFE_Py_Execute(ctx._handle, device_name,\n\u001b[1;32m     60\u001b[0m                                                \u001b[0mop_name\u001b[0m\u001b[0;34m,\u001b[0m \u001b[0minputs\u001b[0m\u001b[0;34m,\u001b[0m \u001b[0mattrs\u001b[0m\u001b[0;34m,\u001b[0m\u001b[0;34m\u001b[0m\u001b[0;34m\u001b[0m\u001b[0m\n\u001b[0;32m---> 61\u001b[0;31m                                                num_outputs)\n\u001b[0m\u001b[1;32m     62\u001b[0m   \u001b[0;32mexcept\u001b[0m \u001b[0mcore\u001b[0m\u001b[0;34m.\u001b[0m\u001b[0m_NotOkStatusException\u001b[0m \u001b[0;32mas\u001b[0m \u001b[0me\u001b[0m\u001b[0;34m:\u001b[0m\u001b[0;34m\u001b[0m\u001b[0;34m\u001b[0m\u001b[0m\n\u001b[1;32m     63\u001b[0m     \u001b[0;32mif\u001b[0m \u001b[0mname\u001b[0m \u001b[0;32mis\u001b[0m \u001b[0;32mnot\u001b[0m \u001b[0;32mNone\u001b[0m\u001b[0;34m:\u001b[0m\u001b[0;34m\u001b[0m\u001b[0;34m\u001b[0m\u001b[0m\n",
      "\u001b[0;31mKeyboardInterrupt\u001b[0m: "
     ]
    }
   ],
   "source": [
    "import time as time\n",
    "epochs = 100\n",
    "\n",
    "optimizer = tf.keras.optimizers.Adam(1e-4)\n",
    "\n",
    "for epoch in range(1, epochs + 1):\n",
    "    start_time = time.time()\n",
    "    for train_x in cifar10_train.map(\n",
    "            lambda x: flatten_image(x, label=False)).batch(32):\n",
    "        compute_apply_gradients(model, train_x, optimizer)\n",
    "    end_time = time.time()\n",
    "\n",
    "    if epoch % 1 == 0:\n",
    "        loss = tf.keras.metrics.Mean()\n",
    "        for test_x in cifar10_test.map(\n",
    "            lambda x: flatten_image(x, label=False)).batch(32):\n",
    "            loss(compute_loss(model, test_x))\n",
    "    elbo = -loss.result()\n",
    "    print('Epoch: {}, Test set ELBO: {}, '\n",
    "          'time elapse for current epoch {}'.format(epoch,\n",
    "                                                    elbo,\n",
    "                                                    end_time - start_time))"
   ]
  },
  {
   "cell_type": "code",
   "execution_count": 347,
   "metadata": {},
   "outputs": [
    {
     "name": "stdout",
     "output_type": "stream",
     "text": [
      "WARNING:tensorflow:AutoGraph could not transform <function <lambda> at 0x15129d3b0> and will run it as-is.\n",
      "Cause: could not parse the source code:\n",
      "\n",
      "for sample in cifar10_train.map(lambda x: flatten_image(x, label=False)).batch(1).take(3):\n",
      "\n",
      "This error may be avoided by creating the lambda in a standalone statement.\n",
      "\n"
     ]
    },
    {
     "name": "stderr",
     "output_type": "stream",
     "text": [
      "WARNING:tensorflow:AutoGraph could not transform <function <lambda> at 0x15129d3b0> and will run it as-is.\n",
      "Cause: could not parse the source code:\n",
      "\n",
      "for sample in cifar10_train.map(lambda x: flatten_image(x, label=False)).batch(1).take(3):\n",
      "\n",
      "This error may be avoided by creating the lambda in a standalone statement.\n",
      "\n"
     ]
    },
    {
     "name": "stdout",
     "output_type": "stream",
     "text": [
      "WARNING: AutoGraph could not transform <function <lambda> at 0x15129d3b0> and will run it as-is.\n",
      "Cause: could not parse the source code:\n",
      "\n",
      "for sample in cifar10_train.map(lambda x: flatten_image(x, label=False)).batch(1).take(3):\n",
      "\n",
      "This error may be avoided by creating the lambda in a standalone statement.\n",
      "\n"
     ]
    },
    {
     "data": {
      "image/png": "[encoded data removed]",
      "text/plain": [
       "<Figure size 432x288 with 1 Axes>"
      ]
     },
     "metadata": {
      "needs_background": "light"
     },
     "output_type": "display_data"
    },
    {
     "data": {
      "image/png": "[encoded data removed]",
      "text/plain": [
       "<Figure size 432x288 with 1 Axes>"
      ]
     },
     "metadata": {
      "needs_background": "light"
     },
     "output_type": "display_data"
    }
   ],
   "source": [
    "for sample in cifar10_train.map(lambda x: flatten_image(x, label=False)).batch(1).take(3):\n",
    "    mean, logvar, h = model.encode(sample)\n",
    "    z = model.reparameterize(mean, logvar)\n",
    "    \n",
    "    for iaf_model in model.iaf:\n",
    "        mean, logvar, _ = iaf_model.call(tf.concat([z, h], 2))\n",
    "        s = tf.sigmoid(logvar)\n",
    "        z = tf.add(tf.math.multiply(z,s), tf.math.multiply(mean,(1-s)))    \n",
    "    \n",
    "    plt.figure(0)\n",
    "    plt.imshow((sample.numpy().reshape(32,32,3)).astype(np.float32), \n",
    "               cmap=plt.get_cmap(\"gray\")\n",
    "              )\n",
    "    \n",
    "    plt.figure(1)\n",
    "    plt.imshow((model.decode(z).numpy().reshape(32,32,3)).astype(np.float32), \n",
    "               cmap=plt.get_cmap(\"gray\")\n",
    "              )"
   ]
  },
  {
   "cell_type": "code",
   "execution_count": 360,
   "metadata": {},
   "outputs": [
    {
     "data": {
      "text/plain": [
       "<matplotlib.image.AxesImage at 0x15b9ac550>"
      ]
     },
     "execution_count": 360,
     "metadata": {},
     "output_type": "execute_result"
    },
    {
     "data": {
      "image/png": "[encoded data removed]",
      "text/plain": [
       "<Figure size 432x288 with 1 Axes>"
      ]
     },
     "metadata": {
      "needs_background": "light"
     },
     "output_type": "display_data"
    }
   ],
   "source": [
    "z = np.random.normal(size=(1,500))\n",
    "h = np.random.normal(size=(1,500))\n",
    "\n",
    "for iaf_model in model.iaf:\n",
    "    mean, logvar, _ = iaf_model.call(tf.concat([z, h], 1))\n",
    "    s = tf.sigmoid(logvar)\n",
    "    z = tf.add(tf.math.multiply(z,s), tf.math.multiply(mean,(1-s)))    \n",
    "    \n",
    "plt.imshow((model.decode(z).numpy().reshape(32,32,3)).astype(np.float32), \n",
    "               cmap=plt.get_cmap(\"gray\")\n",
    "              )"
   ]
  },
  {
   "cell_type": "code",
   "execution_count": 352,
   "metadata": {},
   "outputs": [],
   "source": [
    "import tensorflow_probability as tfp\n",
    "\n",
    "class GaussianMLP(tf.keras.Model):\n",
    "    \n",
    "    def __init__(self, input_shape, name='GaussianMLP', hidden_dim=10, latent_dim=10, iaf=False, **kwargs):\n",
    "        super().__init__(name=name, **kwargs)\n",
    "        self._h = tf.keras.layers.Dense(hidden_dim, activation='tanh')\n",
    "        self._mean = tf.keras.layers.Dense(latent_dim)\n",
    "        self._logvar = tf.keras.layers.Dense(latent_dim)\n",
    "        self._iaf_output = None\n",
    "        if iaf:\n",
    "            self._iaf_output = tf.keras.layers.Dense(latent_dim)\n",
    "    \n",
    "    def call(self, x):\n",
    "        if self._iaf_output:\n",
    "            return self._mean(self._h(x)), self._logvar(self._h(x)), self._iaf_output(self._h(x))\n",
    "        else:\n",
    "            return self._mean(self._h(x)), self._logvar(self._h(x)), None\n",
    "        \n",
    "        \n",
    "        "
   ]
  },
  {
   "cell_type": "code",
   "execution_count": 102,
   "metadata": {},
   "outputs": [],
   "source": [
    "class BernoulliMLP(tf.keras.Model):\n",
    "    \n",
    "    def __init__(self, input_shape, name='BernoulliMLP', hidden_dim=10, latent_dim=10, **kwargs):\n",
    "        super().__init__(name=name, **kwargs)\n",
    "        \n",
    "        self._h = tf.keras.layers.Dense(hidden_dim, activation='tanh')\n",
    "        self._y = tf.keras.layers.Dense(latent_dim, activation='sigmoid')\n",
    "        \n",
    "    def call(self, x):\n",
    "        \n",
    "        return self._y(self._h(x)), None, None"
   ]
  },
  {
   "cell_type": "code",
   "execution_count": 100,
   "metadata": {},
   "outputs": [],
   "source": [
    "g = GaussianMLP(input_shape=(1,3072), hidden_dim=10, latent_dim=10)"
   ]
  },
  {
   "cell_type": "code",
   "execution_count": 103,
   "metadata": {},
   "outputs": [],
   "source": [
    "b = BernoulliMLP(input_shape=(1,3072), hidden_dim=10, latent_dim=10)"
   ]
  },
  {
   "cell_type": "code",
   "execution_count": 107,
   "metadata": {},
   "outputs": [
    {
     "name": "stdout",
     "output_type": "stream",
     "text": [
      "(<tf.Tensor: shape=(1, 10), dtype=float32, numpy=\n",
      "array([[-0.9138231 ,  1.3610146 ,  0.23907232,  0.16107902, -0.3204968 ,\n",
      "        -0.12370022, -0.07392889, -0.21223463, -1.1284611 , -0.7407988 ]],\n",
      "      dtype=float32)>, <tf.Tensor: shape=(1, 10), dtype=float32, numpy=\n",
      "array([[ 0.58465874, -0.98644125,  0.25150728,  0.13377059,  0.8031167 ,\n",
      "        -0.39094824,  0.47175738,  1.2320937 , -0.76058424,  0.04705095]],\n",
      "      dtype=float32)>)\n",
      "(<tf.Tensor: shape=(1, 10), dtype=float32, numpy=\n",
      "array([[-0.7726524 ,  1.0338037 , -0.0197671 ,  0.18892278,  0.16921538,\n",
      "        -0.3977122 , -0.29456812,  0.17124416, -1.0118    , -0.9429607 ]],\n",
      "      dtype=float32)>, <tf.Tensor: shape=(1, 10), dtype=float32, numpy=\n",
      "array([[ 0.02545422, -0.53877133,  0.25475597,  0.18296069,  0.40710446,\n",
      "        -0.52339756,  0.05319175,  1.2576697 , -0.90236217,  0.58443266]],\n",
      "      dtype=float32)>)\n",
      "(<tf.Tensor: shape=(1, 10), dtype=float32, numpy=\n",
      "array([[-1.028199  ,  1.0030779 ,  0.26368058,  0.14021245, -0.05540203,\n",
      "        -0.10645785, -0.5318778 ,  0.0692191 , -0.7538487 , -0.6921748 ]],\n",
      "      dtype=float32)>, <tf.Tensor: shape=(1, 10), dtype=float32, numpy=\n",
      "array([[ 0.27687505, -0.6217974 , -0.00594829,  0.10784137,  0.7113382 ,\n",
      "        -0.31870413,  0.1166824 ,  1.025127  , -0.4762999 ,  0.08296249]],\n",
      "      dtype=float32)>)\n",
      "(<tf.Tensor: shape=(1, 10), dtype=float32, numpy=\n",
      "array([[-0.85178953,  1.1948237 ,  0.14733109,  0.49881384, -0.01578182,\n",
      "        -0.57925063, -0.47599158,  0.36631644, -0.91618866, -0.8949884 ]],\n",
      "      dtype=float32)>, <tf.Tensor: shape=(1, 10), dtype=float32, numpy=\n",
      "array([[ 0.2908426 , -0.6852703 ,  0.04520215,  0.10271043,  0.49235108,\n",
      "        -0.76856786,  0.04984789,  1.3584907 , -0.6409461 ,  0.36667863]],\n",
      "      dtype=float32)>)\n",
      "(<tf.Tensor: shape=(1, 10), dtype=float32, numpy=\n",
      "array([[-0.7126614 ,  0.39707798,  0.30217487,  0.34394017, -0.07719366,\n",
      "        -0.22595203, -0.8019762 ,  0.36220327, -0.41297463, -0.9144712 ]],\n",
      "      dtype=float32)>, <tf.Tensor: shape=(1, 10), dtype=float32, numpy=\n",
      "array([[-0.29254004, -0.03238501, -0.16893609,  0.11108811,  0.57307404,\n",
      "        -0.39873505, -0.174151  ,  0.55528307, -0.4301383 ,  0.34578732]],\n",
      "      dtype=float32)>)\n",
      "(<tf.Tensor: shape=(1, 10), dtype=float32, numpy=\n",
      "array([[-0.8625695 ,  0.7202219 ,  0.25955537,  0.1074993 , -0.15481359,\n",
      "         0.07447919, -0.47542652,  0.0143501 , -0.5638293 , -0.59629697]],\n",
      "      dtype=float32)>, <tf.Tensor: shape=(1, 10), dtype=float32, numpy=\n",
      "array([[ 0.0692569 , -0.4207832 , -0.04123989,  0.15823944,  0.74660003,\n",
      "        -0.14561418,  0.10281301,  0.58964145, -0.44732982,  0.0083625 ]],\n",
      "      dtype=float32)>)\n",
      "(<tf.Tensor: shape=(1, 10), dtype=float32, numpy=\n",
      "array([[-0.6811477 ,  1.2488298 ,  0.23319763,  0.3845949 ,  0.1013435 ,\n",
      "        -0.49531284, -0.35074604, -0.05063935, -0.8041241 , -0.33260605]],\n",
      "      dtype=float32)>, <tf.Tensor: shape=(1, 10), dtype=float32, numpy=\n",
      "array([[ 0.41280514, -0.83085126,  0.1404947 ,  0.21384491,  0.44491872,\n",
      "        -0.52266663,  0.35372487,  1.2578441 , -0.3784693 ,  0.05977552]],\n",
      "      dtype=float32)>)\n",
      "(<tf.Tensor: shape=(1, 10), dtype=float32, numpy=\n",
      "array([[-0.68272895,  1.4168512 ,  0.3879256 ,  0.41524112,  0.08803196,\n",
      "        -0.601405  , -0.54674596,  0.1421603 , -0.6213994 , -0.22036415]],\n",
      "      dtype=float32)>, <tf.Tensor: shape=(1, 10), dtype=float32, numpy=\n",
      "array([[ 0.6043885 , -1.0102686 , -0.02810002,  0.10557235,  0.388102  ,\n",
      "        -0.79859805,  0.2803338 ,  1.5655879 , -0.208129  , -0.08677347]],\n",
      "      dtype=float32)>)\n",
      "(<tf.Tensor: shape=(1, 10), dtype=float32, numpy=\n",
      "array([[-1.0780648 ,  0.8409129 ,  0.40449837, -0.08987166, -0.44796336,\n",
      "         0.1619348 , -0.44119596,  0.2201016 , -0.89849865, -1.2655728 ]],\n",
      "      dtype=float32)>, <tf.Tensor: shape=(1, 10), dtype=float32, numpy=\n",
      "array([[ 0.51014626, -0.636352  , -0.3112314 , -0.23793805,  0.92871755,\n",
      "        -0.36202952,  0.07561089,  1.0302222 , -0.635517  , -0.06275602]],\n",
      "      dtype=float32)>)\n",
      "(<tf.Tensor: shape=(1, 10), dtype=float32, numpy=\n",
      "array([[-0.53342575,  0.82931924,  0.25706142,  0.10174122, -0.4278981 ,\n",
      "        -0.15716697, -0.06172141,  0.138226  , -0.95176935, -1.1305871 ]],\n",
      "      dtype=float32)>, <tf.Tensor: shape=(1, 10), dtype=float32, numpy=\n",
      "array([[ 0.41580737, -0.60785   , -0.04942036, -0.10389806,  0.6067797 ,\n",
      "        -0.56819475,  0.22212388,  1.0370848 , -0.7645372 ,  0.16606772]],\n",
      "      dtype=float32)>)\n"
     ]
    }
   ],
   "source": [
    "for image in cifar10_train.map(lambda x: flatten_image(x, label=False)).take(10):\n",
    "    print(g.call(image))"
   ]
  },
  {
   "cell_type": "code",
   "execution_count": 85,
   "metadata": {},
   "outputs": [
    {
     "name": "stdout",
     "output_type": "stream",
     "text": [
      "Requirement already satisfied: pydot in /usr/local/lib/python3.7/site-packages (1.4.1)\n",
      "Requirement already satisfied: pyparsing>=2.1.4 in /usr/local/lib/python3.7/site-packages (from pydot) (2.4.0)\n",
      "Requirement already satisfied: graphviz in /usr/local/lib/python3.7/site-packages (0.14)\n"
     ]
    }
   ],
   "source": [
    "!pip3 install pydot\n",
    "!pip3 install graphviz"
   ]
  },
  {
   "cell_type": "code",
   "execution_count": 74,
   "metadata": {},
   "outputs": [],
   "source": [
    "import pydot\n",
    "import graphviz"
   ]
  },
  {
   "cell_type": "code",
   "execution_count": 75,
   "metadata": {},
   "outputs": [
    {
     "name": "stdout",
     "output_type": "stream",
     "text": [
      "Failed to import pydot. You must install pydot and graphviz for `pydotprint` to work.\n"
     ]
    }
   ],
   "source": [
    "\n",
    "tf.keras.utils.plot_model(g)"
   ]
  },
  {
   "cell_type": "code",
   "execution_count": 11,
   "metadata": {},
   "outputs": [],
   "source": [
    "def flatten_image(x, label=False):\n",
    "    if label:\n",
    "        return (tf.divide(\n",
    "            tf.dtypes.cast(\n",
    "                tf.reshape(x[\"image\"], (1, 32*32*3)), tf.float32), 256.0),\n",
    "                x[\"label\"])\n",
    "    else:\n",
    "        return (\n",
    "            tf.divide(tf.dtypes.cast(\n",
    "                tf.reshape(x[\"image\"], (1, 32*32*3)), tf.float32), 256.0))"
   ]
  },
  {
   "cell_type": "code",
   "execution_count": 31,
   "metadata": {},
   "outputs": [
    {
     "name": "stdout",
     "output_type": "stream",
     "text": [
      "WARNING:tensorflow:AutoGraph could not transform <function <lambda> at 0x14eff6680> and will run it as-is.\n",
      "Cause: could not parse the source code:\n",
      "\n",
      "for sample in cifar10_train.map(lambda x: flatten_image(x, label=True)).take(1):\n",
      "\n",
      "This error may be avoided by creating the lambda in a standalone statement.\n",
      "\n"
     ]
    },
    {
     "name": "stderr",
     "output_type": "stream",
     "text": [
      "WARNING:tensorflow:AutoGraph could not transform <function <lambda> at 0x14eff6680> and will run it as-is.\n",
      "Cause: could not parse the source code:\n",
      "\n",
      "for sample in cifar10_train.map(lambda x: flatten_image(x, label=True)).take(1):\n",
      "\n",
      "This error may be avoided by creating the lambda in a standalone statement.\n",
      "\n"
     ]
    },
    {
     "name": "stdout",
     "output_type": "stream",
     "text": [
      "WARNING: AutoGraph could not transform <function <lambda> at 0x14eff6680> and will run it as-is.\n",
      "Cause: could not parse the source code:\n",
      "\n",
      "for sample in cifar10_train.map(lambda x: flatten_image(x, label=True)).take(1):\n",
      "\n",
      "This error may be avoided by creating the lambda in a standalone statement.\n",
      "\n",
      "(<tf.Tensor: shape=(1, 3072), dtype=float32, numpy=\n",
      "array([[0.55859375, 0.375     , 0.2734375 , ..., 0.86328125, 0.73046875,\n",
      "        0.61328125]], dtype=float32)>, <tf.Tensor: shape=(), dtype=int64, numpy=7>)\n",
      "Label: 7\n"
     ]
    },
    {
     "data": {
      "image/png": "[encoded data removed]",
      "text/plain": [
       "<Figure size 432x288 with 1 Axes>"
      ]
     },
     "metadata": {
      "needs_background": "light"
     },
     "output_type": "display_data"
    }
   ],
   "source": [
    "from PIL import Image\n",
    "import numpy as np\n",
    "import matplotlib.pyplot as plt\n",
    "\n",
    "for sample in cifar10_train.map(lambda x: flatten_image(x, label=True)).take(1):\n",
    "    plt.imshow(sample[0].numpy().reshape(32,32,3).astype(np.float32), \n",
    "               cmap=plt.get_cmap(\"gray\")\n",
    "              )\n",
    "    print(\"Label: %d\" % sample[1].numpy())"
   ]
  },
  {
   "cell_type": "code",
   "execution_count": null,
   "metadata": {},
   "outputs": [],
   "source": []
  }
 ],
 "metadata": {
  "kernelspec": {
   "display_name": "Python 3",
   "language": "python",
   "name": "python3"
  },
  "language_info": {
   "codemirror_mode": {
    "name": "ipython",
    "version": 3
   },
   "file_extension": ".py",
   "mimetype": "text/x-python",
   "name": "python",
   "nbconvert_exporter": "python",
   "pygments_lexer": "ipython3",
   "version": "3.7.6"
  }
 },
 "nbformat": 4,
 "nbformat_minor": 2
}
